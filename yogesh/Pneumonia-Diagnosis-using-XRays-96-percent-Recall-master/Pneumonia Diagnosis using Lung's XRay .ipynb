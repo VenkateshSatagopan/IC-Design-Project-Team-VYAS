{
 "cells": [
  {
   "cell_type": "markdown",
   "metadata": {},
   "source": [
    "# Pneumonia Diagnosis using Lungs' XRays "
   ]
  },
  {
   "cell_type": "code",
   "execution_count": 1,
   "metadata": {},
   "outputs": [],
   "source": [
    "import cv2                 \n",
    "import numpy as np         \n",
    "import os                  \n",
    "from random import shuffle"
   ]
  },
  {
   "cell_type": "code",
   "execution_count": 2,
   "metadata": {},
   "outputs": [],
   "source": [
    "from tqdm import tqdm  \n",
    "import scipy\n",
    "import skimage\n",
    "from skimage.transform import resize"
   ]
  },
  {
   "cell_type": "code",
   "execution_count": 3,
   "metadata": {},
   "outputs": [],
   "source": [
    "import pandas as pd "
   ]
  },
  {
   "cell_type": "code",
   "execution_count": 4,
   "metadata": {},
   "outputs": [
    {
     "data": {
      "text/plain": [
       "'C:\\\\Users\\\\ShankarY\\\\Coursera\\\\AI_for_edge\\\\Pneumonia-Diagnosis-using-XRays-96-percent-Recall-master'"
      ]
     },
     "execution_count": 4,
     "metadata": {},
     "output_type": "execute_result"
    }
   ],
   "source": [
    "pwd"
   ]
  },
  {
   "cell_type": "code",
   "execution_count": 5,
   "metadata": {
    "_cell_guid": "b1076dfc-b9ad-4769-8c92-a6c4dae69d19",
    "_uuid": "8f2839f25d086af736a60e9eeb907d3b93b6e0e5"
   },
   "outputs": [
    {
     "name": "stdout",
     "output_type": "stream",
     "text": [
      "['.DS_Store', 'test', 'train', 'val']\n"
     ]
    }
   ],
   "source": [
    "\n",
    "print(os.listdir(\"../chest_xray\"))"
   ]
  },
  {
   "cell_type": "code",
   "execution_count": 6,
   "metadata": {
    "_uuid": "99966688a2a2a8cbb5cf35aeac5e0126b0a1b7f7"
   },
   "outputs": [
    {
     "name": "stdout",
     "output_type": "stream",
     "text": [
      "['.DS_Store', 'NORMAL', 'PNEUMONIA']\n"
     ]
    }
   ],
   "source": [
    "print(os.listdir(\"../chest_xray/train/\"))"
   ]
  },
  {
   "cell_type": "code",
   "execution_count": 7,
   "metadata": {
    "_cell_guid": "79c7e3d0-c299-4dcb-8224-4455121ee9b0",
    "_uuid": "d629ff2d2480ee46fbb7e2d37f6b5fab8052498a"
   },
   "outputs": [],
   "source": [
    "TRAIN_DIR = \"../chest_xray/train/\"\n",
    "TEST_DIR =  \"../chest_xray/test/\""
   ]
  },
  {
   "cell_type": "markdown",
   "metadata": {},
   "source": [
    "**Preprocessing**"
   ]
  },
  {
   "cell_type": "code",
   "execution_count": 8,
   "metadata": {
    "_uuid": "fc9065d2b4d6c9efa44dc5d91bd7f2de00c1aedc"
   },
   "outputs": [],
   "source": [
    "def get_label(Dir):\n",
    "    for nextdir in os.listdir(Dir):\n",
    "        if not nextdir.startswith('.'):\n",
    "            if nextdir in ['NORMAL']:\n",
    "                label = 0\n",
    "            elif nextdir in ['PNEUMONIA']:\n",
    "                label = 1\n",
    "            else:\n",
    "                label = 2\n",
    "    return nextdir, label"
   ]
  },
  {
   "cell_type": "code",
   "execution_count": 9,
   "metadata": {
    "_uuid": "f4eb2d75f5f7281d78aa3f660b04a88167480184"
   },
   "outputs": [],
   "source": [
    "def preprocessing_data(Dir):\n",
    "    X = []\n",
    "    y = []\n",
    "    \n",
    "    for nextdir in os.listdir(Dir):\n",
    "        nextdir, label = get_label(Dir)\n",
    "        temp = Dir + nextdir\n",
    "        \n",
    "        for image_filename in tqdm(os.listdir(temp)):\n",
    "            path = os.path.join(temp + '/' , image_filename)\n",
    "            img = cv2.imread(path,cv2.IMREAD_GRAYSCALE)\n",
    "            if img is not None:\n",
    "                img = skimage.transform.resize(img, (150, 150, 3))\n",
    "                img = np.asarray(img)\n",
    "                X.append(img)\n",
    "                y.append(label)\n",
    "            \n",
    "    X = np.asarray(X)\n",
    "    y = np.asarray(y)\n",
    "    \n",
    "    return X,y"
   ]
  },
  {
   "cell_type": "code",
   "execution_count": 6,
   "metadata": {
    "_uuid": "f2812029451339945959e2beb9ef67b0ef8acb24",
    "collapsed": true
   },
   "outputs": [],
   "source": [
    "# X_train, y_train = preprocessing_data(TRAIN_DIR)"
   ]
  },
  {
   "cell_type": "code",
   "execution_count": 10,
   "metadata": {
    "_uuid": "92f8a36e8392ec7d61013478d2336afcebffa94f"
   },
   "outputs": [],
   "source": [
    "def get_data(Dir):\n",
    "    X = []\n",
    "    y = []\n",
    "    for nextDir in os.listdir(Dir):\n",
    "        if not nextDir.startswith('.'):\n",
    "            if nextDir in ['NORMAL']:\n",
    "                label = 0\n",
    "            elif nextDir in ['PNEUMONIA']:\n",
    "                label = 1\n",
    "            else:\n",
    "                label = 2\n",
    "                \n",
    "            temp = Dir + nextDir\n",
    "                \n",
    "            for file in tqdm(os.listdir(temp)):\n",
    "                img = cv2.imread(temp + '/' + file)\n",
    "                if img is not None:\n",
    "                    img = skimage.transform.resize(img, (150, 150, 3))\n",
    "                    #img_file = scipy.misc.imresize(arr=img_file, size=(150, 150, 3))\n",
    "                    img = np.asarray(img)\n",
    "                    X.append(img)\n",
    "                    y.append(label)\n",
    "                    \n",
    "    X = np.asarray(X)\n",
    "    y = np.asarray(y)\n",
    "    return X,y"
   ]
  },
  {
   "cell_type": "code",
   "execution_count": 11,
   "metadata": {
    "_uuid": "255b740623b11b5073d721030762fd615b88fe9d"
   },
   "outputs": [
    {
     "name": "stderr",
     "output_type": "stream",
     "text": [
      "  0%|          | 0/1342 [00:00<?, ?it/s]C:\\Users\\ShankarY\\AppData\\Local\\Continuum\\anaconda3\\envs\\tensorflow\\lib\\site-packages\\skimage\\transform\\_warps.py:105: UserWarning: The default mode, 'constant', will be changed to 'reflect' in skimage 0.15.\n",
      "  warn(\"The default mode, 'constant', will be changed to 'reflect' in \"\n",
      "C:\\Users\\ShankarY\\AppData\\Local\\Continuum\\anaconda3\\envs\\tensorflow\\lib\\site-packages\\skimage\\transform\\_warps.py:110: UserWarning: Anti-aliasing will be enabled by default in skimage 0.15 to avoid aliasing artifacts when down-sampling images.\n",
      "  warn(\"Anti-aliasing will be enabled by default in skimage 0.15 to \"\n",
      "100%|██████████| 1342/1342 [04:44<00:00,  6.55it/s]\n",
      "100%|██████████| 3876/3876 [06:44<00:00,  9.58it/s]\n"
     ]
    }
   ],
   "source": [
    "X_train, y_train = get_data(TRAIN_DIR)"
   ]
  },
  {
   "cell_type": "code",
   "execution_count": 12,
   "metadata": {
    "_uuid": "7a0c6725c477f382572b56a72b4fd7bcc61770bb"
   },
   "outputs": [
    {
     "name": "stderr",
     "output_type": "stream",
     "text": [
      "100%|██████████| 234/234 [01:15<00:00,  3.37it/s]\n",
      "100%|██████████| 390/390 [00:49<00:00,  8.36it/s]\n"
     ]
    }
   ],
   "source": [
    "X_test , y_test = get_data(TEST_DIR)"
   ]
  },
  {
   "cell_type": "code",
   "execution_count": 13,
   "metadata": {
    "_uuid": "dcc0d8d64482e18b6751c75159327244bc90f8dd"
   },
   "outputs": [
    {
     "name": "stdout",
     "output_type": "stream",
     "text": [
      "(5216, 150, 150, 3) \n",
      " (624, 150, 150, 3)\n"
     ]
    }
   ],
   "source": [
    "print(X_train.shape,'\\n',X_test.shape)"
   ]
  },
  {
   "cell_type": "code",
   "execution_count": 14,
   "metadata": {
    "_uuid": "1d12c874fc40f26fd9b8e6c3855fc449dab1bbbd"
   },
   "outputs": [
    {
     "name": "stdout",
     "output_type": "stream",
     "text": [
      "(5216,) \n",
      " (624,)\n"
     ]
    }
   ],
   "source": [
    "print(y_train.shape,'\\n',y_test.shape)"
   ]
  },
  {
   "cell_type": "code",
   "execution_count": 15,
   "metadata": {
    "_uuid": "93cd5729fe2e58c9ca77996fa182cfc614a40917"
   },
   "outputs": [
    {
     "name": "stderr",
     "output_type": "stream",
     "text": [
      "Using TensorFlow backend.\n"
     ]
    }
   ],
   "source": [
    "from keras.utils.np_utils import to_categorical\n",
    "\n",
    "y_train = to_categorical(y_train, 2)\n",
    "y_test = to_categorical(y_test, 2)"
   ]
  },
  {
   "cell_type": "markdown",
   "metadata": {},
   "source": [
    "**The arrays are not normalized because they have already been provided in the necessary format.**"
   ]
  },
  {
   "cell_type": "code",
   "execution_count": 16,
   "metadata": {
    "_uuid": "3eec3151962cf07ddee8448cbcbb0d31fa2cfdcb"
   },
   "outputs": [
    {
     "name": "stdout",
     "output_type": "stream",
     "text": [
      "(5216, 2) \n",
      " (624, 2)\n"
     ]
    }
   ],
   "source": [
    "print(y_train.shape,'\\n',y_test.shape)"
   ]
  },
  {
   "cell_type": "code",
   "execution_count": 17,
   "metadata": {
    "_uuid": "c31cc3c0880ad10a71c979bdab024a15b814d334"
   },
   "outputs": [],
   "source": [
    "Pimages = os.listdir(TRAIN_DIR + \"PNEUMONIA\")\n",
    "Nimages = os.listdir(TRAIN_DIR + \"NORMAL\")"
   ]
  },
  {
   "cell_type": "code",
   "execution_count": 21,
   "metadata": {},
   "outputs": [],
   "source": [
    "import matplotlib.pyplot as plt"
   ]
  },
  {
   "cell_type": "code",
   "execution_count": 22,
   "metadata": {
    "_uuid": "59c473cc8874b77f2ad6e08843fd327da942dfc3",
    "scrolled": false
   },
   "outputs": [
    {
     "ename": "AttributeError",
     "evalue": "'NoneType' object has no attribute 'shape'",
     "output_type": "error",
     "traceback": [
      "\u001b[1;31m---------------------------------------------------------------------------\u001b[0m",
      "\u001b[1;31mAttributeError\u001b[0m                            Traceback (most recent call last)",
      "\u001b[1;32m<ipython-input-22-acdc04c7c8dd>\u001b[0m in \u001b[0;36m<module>\u001b[1;34m\u001b[0m\n\u001b[0;32m     12\u001b[0m     \u001b[0mplt\u001b[0m\u001b[1;33m.\u001b[0m\u001b[0mshow\u001b[0m\u001b[1;33m(\u001b[0m\u001b[1;33m)\u001b[0m\u001b[1;33m\u001b[0m\u001b[1;33m\u001b[0m\u001b[0m\n\u001b[0;32m     13\u001b[0m \u001b[1;32mfor\u001b[0m \u001b[0mi\u001b[0m \u001b[1;32min\u001b[0m \u001b[0mrange\u001b[0m\u001b[1;33m(\u001b[0m\u001b[1;36m0\u001b[0m\u001b[1;33m,\u001b[0m\u001b[1;36m5\u001b[0m\u001b[1;33m)\u001b[0m\u001b[1;33m:\u001b[0m\u001b[1;33m\u001b[0m\u001b[1;33m\u001b[0m\u001b[0m\n\u001b[1;32m---> 14\u001b[1;33m     \u001b[0mplotter\u001b[0m\u001b[1;33m(\u001b[0m\u001b[0mi\u001b[0m\u001b[1;33m)\u001b[0m\u001b[1;33m\u001b[0m\u001b[1;33m\u001b[0m\u001b[0m\n\u001b[0m",
      "\u001b[1;32m<ipython-input-22-acdc04c7c8dd>\u001b[0m in \u001b[0;36mplotter\u001b[1;34m(i)\u001b[0m\n\u001b[0;32m      2\u001b[0m \u001b[1;32mdef\u001b[0m \u001b[0mplotter\u001b[0m\u001b[1;33m(\u001b[0m\u001b[0mi\u001b[0m\u001b[1;33m)\u001b[0m\u001b[1;33m:\u001b[0m\u001b[1;33m\u001b[0m\u001b[1;33m\u001b[0m\u001b[0m\n\u001b[0;32m      3\u001b[0m     \u001b[0mimagep1\u001b[0m \u001b[1;33m=\u001b[0m \u001b[0mcv2\u001b[0m\u001b[1;33m.\u001b[0m\u001b[0mimread\u001b[0m\u001b[1;33m(\u001b[0m\u001b[0mTRAIN_DIR\u001b[0m\u001b[1;33m+\u001b[0m\u001b[1;34m\"PNEUMONIA/\"\u001b[0m\u001b[1;33m+\u001b[0m\u001b[0mPimages\u001b[0m\u001b[1;33m[\u001b[0m\u001b[0mi\u001b[0m\u001b[1;33m]\u001b[0m\u001b[1;33m)\u001b[0m\u001b[1;33m\u001b[0m\u001b[1;33m\u001b[0m\u001b[0m\n\u001b[1;32m----> 4\u001b[1;33m     \u001b[0mimagep1\u001b[0m \u001b[1;33m=\u001b[0m \u001b[0mskimage\u001b[0m\u001b[1;33m.\u001b[0m\u001b[0mtransform\u001b[0m\u001b[1;33m.\u001b[0m\u001b[0mresize\u001b[0m\u001b[1;33m(\u001b[0m\u001b[0mimagep1\u001b[0m\u001b[1;33m,\u001b[0m \u001b[1;33m(\u001b[0m\u001b[1;36m150\u001b[0m\u001b[1;33m,\u001b[0m \u001b[1;36m150\u001b[0m\u001b[1;33m,\u001b[0m \u001b[1;36m3\u001b[0m\u001b[1;33m)\u001b[0m \u001b[1;33m,\u001b[0m \u001b[0mmode\u001b[0m \u001b[1;33m=\u001b[0m \u001b[1;34m'reflect'\u001b[0m\u001b[1;33m)\u001b[0m\u001b[1;33m\u001b[0m\u001b[1;33m\u001b[0m\u001b[0m\n\u001b[0m\u001b[0;32m      5\u001b[0m     \u001b[0mimagen1\u001b[0m \u001b[1;33m=\u001b[0m \u001b[0mcv2\u001b[0m\u001b[1;33m.\u001b[0m\u001b[0mimread\u001b[0m\u001b[1;33m(\u001b[0m\u001b[0mTRAIN_DIR\u001b[0m\u001b[1;33m+\u001b[0m\u001b[1;34m\"NORMAL/\"\u001b[0m\u001b[1;33m+\u001b[0m\u001b[0mNimages\u001b[0m\u001b[1;33m[\u001b[0m\u001b[0mi\u001b[0m\u001b[1;33m]\u001b[0m\u001b[1;33m)\u001b[0m\u001b[1;33m\u001b[0m\u001b[1;33m\u001b[0m\u001b[0m\n\u001b[0;32m      6\u001b[0m     \u001b[0mimagen1\u001b[0m \u001b[1;33m=\u001b[0m \u001b[0mskimage\u001b[0m\u001b[1;33m.\u001b[0m\u001b[0mtransform\u001b[0m\u001b[1;33m.\u001b[0m\u001b[0mresize\u001b[0m\u001b[1;33m(\u001b[0m\u001b[0mimagen1\u001b[0m\u001b[1;33m,\u001b[0m \u001b[1;33m(\u001b[0m\u001b[1;36m150\u001b[0m\u001b[1;33m,\u001b[0m \u001b[1;36m150\u001b[0m\u001b[1;33m,\u001b[0m \u001b[1;36m3\u001b[0m\u001b[1;33m)\u001b[0m\u001b[1;33m)\u001b[0m\u001b[1;33m\u001b[0m\u001b[1;33m\u001b[0m\u001b[0m\n",
      "\u001b[1;32m~\\AppData\\Local\\Continuum\\anaconda3\\envs\\tensorflow\\lib\\site-packages\\skimage\\transform\\_warps.py\u001b[0m in \u001b[0;36mresize\u001b[1;34m(image, output_shape, order, mode, cval, clip, preserve_range, anti_aliasing, anti_aliasing_sigma)\u001b[0m\n\u001b[0;32m    113\u001b[0m     \u001b[0moutput_shape\u001b[0m \u001b[1;33m=\u001b[0m \u001b[0mtuple\u001b[0m\u001b[1;33m(\u001b[0m\u001b[0moutput_shape\u001b[0m\u001b[1;33m)\u001b[0m\u001b[1;33m\u001b[0m\u001b[1;33m\u001b[0m\u001b[0m\n\u001b[0;32m    114\u001b[0m     \u001b[0moutput_ndim\u001b[0m \u001b[1;33m=\u001b[0m \u001b[0mlen\u001b[0m\u001b[1;33m(\u001b[0m\u001b[0moutput_shape\u001b[0m\u001b[1;33m)\u001b[0m\u001b[1;33m\u001b[0m\u001b[1;33m\u001b[0m\u001b[0m\n\u001b[1;32m--> 115\u001b[1;33m     \u001b[0minput_shape\u001b[0m \u001b[1;33m=\u001b[0m \u001b[0mimage\u001b[0m\u001b[1;33m.\u001b[0m\u001b[0mshape\u001b[0m\u001b[1;33m\u001b[0m\u001b[1;33m\u001b[0m\u001b[0m\n\u001b[0m\u001b[0;32m    116\u001b[0m     \u001b[1;32mif\u001b[0m \u001b[0moutput_ndim\u001b[0m \u001b[1;33m>\u001b[0m \u001b[0mimage\u001b[0m\u001b[1;33m.\u001b[0m\u001b[0mndim\u001b[0m\u001b[1;33m:\u001b[0m\u001b[1;33m\u001b[0m\u001b[1;33m\u001b[0m\u001b[0m\n\u001b[0;32m    117\u001b[0m         \u001b[1;31m# append dimensions to input_shape\u001b[0m\u001b[1;33m\u001b[0m\u001b[1;33m\u001b[0m\u001b[1;33m\u001b[0m\u001b[0m\n",
      "\u001b[1;31mAttributeError\u001b[0m: 'NoneType' object has no attribute 'shape'"
     ]
    }
   ],
   "source": [
    "\n",
    "def plotter(i):\n",
    "    imagep1 = cv2.imread(TRAIN_DIR+\"PNEUMONIA/\"+Pimages[i])\n",
    "    imagep1 = skimage.transform.resize(imagep1, (150, 150, 3) , mode = 'reflect')\n",
    "    imagen1 = cv2.imread(TRAIN_DIR+\"NORMAL/\"+Nimages[i])\n",
    "    imagen1 = skimage.transform.resize(imagen1, (150, 150, 3))\n",
    "    pair = np.concatenate((imagen1, imagep1), axis=1)\n",
    "    print(\"(Left) - No Pneumonia Vs (Right) - Pneumonia\")\n",
    "    print(\"-----------------------------------------------------------------------------------------------------------------------------------\")\n",
    "    plt.figure(figsize=(10,5))\n",
    "    plt.imshow(pair)\n",
    "    plt.show()\n",
    "for i in range(0,5):\n",
    "    plotter(i)"
   ]
  },
  {
   "cell_type": "code",
   "execution_count": 23,
   "metadata": {
    "_uuid": "63ff6fcfd5aa6650097a8a7d5d0858338b7c3e59"
   },
   "outputs": [
    {
     "data": {
      "text/plain": [
       "<matplotlib.axes._subplots.AxesSubplot at 0x19e20c47748>"
      ]
     },
     "execution_count": 23,
     "metadata": {},
     "output_type": "execute_result"
    },
    {
     "data": {
      "image/png": "[encoded data removed]",
      "text/plain": [
       "<Figure size 432x288 with 1 Axes>"
      ]
     },
     "metadata": {
      "needs_background": "light"
     },
     "output_type": "display_data"
    }
   ],
   "source": [
    "import seaborn as sns\n",
    "count = y_train.sum(axis = 0)\n",
    "sns.countplot(x = count)"
   ]
  },
  {
   "cell_type": "markdown",
   "metadata": {},
   "source": [
    "**The classes are imbalanced therefore validation accuracy won't be a good metric to analyze the model performance , We will also have to take precision , recall and confusion matrix into account.**"
   ]
  },
  {
   "cell_type": "code",
   "execution_count": 24,
   "metadata": {
    "_uuid": "a6003a267e5e97728a2f9285f67f4e81ab0d2b62"
   },
   "outputs": [
    {
     "name": "stderr",
     "output_type": "stream",
     "text": [
      "C:\\Users\\ShankarY\\AppData\\Local\\Continuum\\anaconda3\\envs\\tensorflow\\lib\\site-packages\\keras\\callbacks.py:1065: UserWarning: `epsilon` argument is deprecated and will be removed, use `min_delta` instead.\n",
      "  warnings.warn('`epsilon` argument is deprecated and '\n"
     ]
    }
   ],
   "source": [
    "from keras.callbacks import ReduceLROnPlateau , ModelCheckpoint\n",
    "lr_reduce = ReduceLROnPlateau(monitor='val_acc', factor=0.1, epsilon=0.0001, patience=1, verbose=1)"
   ]
  },
  {
   "cell_type": "markdown",
   "metadata": {},
   "source": [
    "**Callbacks to reduce learning rate timely after monitoring a quantity.**"
   ]
  },
  {
   "cell_type": "code",
   "execution_count": 25,
   "metadata": {
    "_uuid": "8dc46c73181cbb9e837f6ab498a3220932c86733"
   },
   "outputs": [],
   "source": [
    "filepath=\"weights.hdf5\"\n",
    "checkpoint = ModelCheckpoint(filepath, monitor='val_acc', verbose=1, save_best_only=True, mode='max')"
   ]
  },
  {
   "cell_type": "markdown",
   "metadata": {},
   "source": [
    "**Making checkpoints timely to check and save the best model performance till last and also avoiding further validation accuracy drop due to overfitting.**"
   ]
  },
  {
   "cell_type": "code",
   "execution_count": 26,
   "metadata": {
    "_uuid": "ed6fe4cbd06dd13194092344442cc718d93f6b7d"
   },
   "outputs": [],
   "source": [
    "from keras.models import Sequential\n",
    "from keras.layers import Dense , Activation\n",
    "from keras.layers import Dropout\n",
    "from keras.layers import Flatten\n",
    "from keras.constraints import maxnorm\n",
    "from keras.optimizers import SGD , RMSprop\n",
    "from keras.layers import Conv2D , BatchNormalization\n",
    "from keras.layers import MaxPooling2D\n",
    "from keras.utils import np_utils\n",
    "from keras import backend as K\n",
    "K.set_image_dim_ordering('th')\n",
    "from sklearn.model_selection import GridSearchCV\n",
    "from keras.wrappers.scikit_learn import KerasClassifier"
   ]
  },
  {
   "cell_type": "code",
   "execution_count": 27,
   "metadata": {
    "_uuid": "e72ef6b28c97a727a2c31490bd280faa86719fec"
   },
   "outputs": [],
   "source": [
    "X_train=X_train.reshape(5216,3,150,150)\n",
    "X_test=X_test.reshape(624,3,150,150)"
   ]
  },
  {
   "cell_type": "markdown",
   "metadata": {},
   "source": [
    "### Tried different model architectures , the best I could achieve was 83.75 % validation accuracy without any pre-trained CNN models. The architecture is different from the best and could give 83.01 %  . But again our main criteria is not accuracy but the precision and recall."
   ]
  },
  {
   "cell_type": "markdown",
   "metadata": {},
   "source": [
    "### Other Hyperparameters like learning rates, epochs, batch size , no. of filters , activation function have been tuned repeatedly to achieve better results."
   ]
  },
  {
   "cell_type": "code",
   "execution_count": 28,
   "metadata": {
    "_uuid": "2045e6d4442a6a30297237d0e963e08bd8c3f48b"
   },
   "outputs": [
    {
     "name": "stdout",
     "output_type": "stream",
     "text": [
      "_________________________________________________________________\n",
      "Layer (type)                 Output Shape              Param #   \n",
      "=================================================================\n",
      "conv2d_1 (Conv2D)            (None, 16, 150, 150)      448       \n",
      "_________________________________________________________________\n",
      "conv2d_2 (Conv2D)            (None, 16, 150, 150)      2320      \n",
      "_________________________________________________________________\n",
      "max_pooling2d_1 (MaxPooling2 (None, 16, 75, 75)        0         \n",
      "_________________________________________________________________\n",
      "conv2d_3 (Conv2D)            (None, 32, 75, 75)        4640      \n",
      "_________________________________________________________________\n",
      "conv2d_4 (Conv2D)            (None, 32, 75, 75)        9248      \n",
      "_________________________________________________________________\n",
      "max_pooling2d_2 (MaxPooling2 (None, 32, 37, 37)        0         \n",
      "_________________________________________________________________\n",
      "conv2d_5 (Conv2D)            (None, 64, 37, 37)        18496     \n",
      "_________________________________________________________________\n",
      "conv2d_6 (Conv2D)            (None, 64, 37, 37)        36928     \n",
      "_________________________________________________________________\n",
      "max_pooling2d_3 (MaxPooling2 (None, 64, 18, 18)        0         \n",
      "_________________________________________________________________\n",
      "conv2d_7 (Conv2D)            (None, 96, 18, 18)        55392     \n",
      "_________________________________________________________________\n",
      "conv2d_8 (Conv2D)            (None, 96, 16, 16)        83040     \n",
      "_________________________________________________________________\n",
      "max_pooling2d_4 (MaxPooling2 (None, 96, 8, 8)          0         \n",
      "_________________________________________________________________\n",
      "conv2d_9 (Conv2D)            (None, 128, 8, 8)         110720    \n",
      "_________________________________________________________________\n",
      "conv2d_10 (Conv2D)           (None, 128, 6, 6)         147584    \n",
      "_________________________________________________________________\n",
      "max_pooling2d_5 (MaxPooling2 (None, 128, 3, 3)         0         \n",
      "_________________________________________________________________\n",
      "flatten_1 (Flatten)          (None, 1152)              0         \n",
      "_________________________________________________________________\n",
      "dense_1 (Dense)              (None, 64)                73792     \n",
      "_________________________________________________________________\n",
      "dropout_1 (Dropout)          (None, 64)                0         \n",
      "_________________________________________________________________\n",
      "dense_2 (Dense)              (None, 2)                 130       \n",
      "=================================================================\n",
      "Total params: 542,738\n",
      "Trainable params: 542,738\n",
      "Non-trainable params: 0\n",
      "_________________________________________________________________\n",
      "None\n"
     ]
    }
   ],
   "source": [
    "def swish_activation(x):\n",
    "    return (K.sigmoid(x) * x)\n",
    "\n",
    "model = Sequential()\n",
    "model.add(Conv2D(16, (3, 3), activation='relu', padding=\"same\", input_shape=(3,150,150)))\n",
    "model.add(Conv2D(16, (3, 3), padding=\"same\", activation='relu'))\n",
    "model.add(MaxPooling2D(pool_size=(2, 2)))\n",
    "\n",
    "model.add(Conv2D(32, (3, 3), activation='relu', padding=\"same\", input_shape=(3,150,150)))\n",
    "model.add(Conv2D(32, (3, 3), padding=\"same\", activation='relu'))\n",
    "model.add(MaxPooling2D(pool_size=(2, 2)))\n",
    "\n",
    "model.add(Conv2D(64, (3, 3), activation='relu', padding=\"same\"))\n",
    "model.add(Conv2D(64, (3, 3), padding=\"same\", activation='relu'))\n",
    "model.add(MaxPooling2D(pool_size=(2, 2)))\n",
    "\n",
    "model.add(Conv2D(96, (3, 3), dilation_rate=(2, 2), activation='relu', padding=\"same\"))\n",
    "model.add(Conv2D(96, (3, 3), padding=\"valid\", activation='relu'))\n",
    "model.add(MaxPooling2D(pool_size=(2, 2)))\n",
    "\n",
    "model.add(Conv2D(128, (3, 3), dilation_rate=(2, 2), activation='relu', padding=\"same\"))\n",
    "model.add(Conv2D(128, (3, 3), padding=\"valid\", activation='relu'))\n",
    "model.add(MaxPooling2D(pool_size=(2, 2)))\n",
    "\n",
    "model.add(Flatten())\n",
    "\n",
    "model.add(Dense(64, activation=swish_activation))\n",
    "model.add(Dropout(0.4))\n",
    "model.add(Dense(2 , activation='sigmoid'))\n",
    "\n",
    "model.compile(loss='binary_crossentropy',\n",
    "                  optimizer=RMSprop(lr=0.00005),\n",
    "                  metrics=['accuracy'])\n",
    "\n",
    "print(model.summary())\n"
   ]
  },
  {
   "cell_type": "code",
   "execution_count": 32,
   "metadata": {
    "_uuid": "872c51c19987af69d74dbd13abd3c96002e2b910"
   },
   "outputs": [],
   "source": [
    "batch_size = 256\n",
    "epochs = 1"
   ]
  },
  {
   "cell_type": "code",
   "execution_count": 33,
   "metadata": {
    "_uuid": "4b25c341c262423545b23e6ebc6f73a0eaf8ae42"
   },
   "outputs": [
    {
     "name": "stdout",
     "output_type": "stream",
     "text": [
      "Train on 5216 samples, validate on 624 samples\n",
      "Epoch 1/1\n",
      "5216/5216 [==============================] - ETA: 26:46 - loss: 0.6398 - acc: 0.68 - ETA: 25:37 - loss: 0.6301 - acc: 0.68 - ETA: 25:04 - loss: 0.6214 - acc: 0.69 - ETA: 24:48 - loss: 0.6185 - acc: 0.70 - ETA: 24:30 - loss: 0.6077 - acc: 0.71 - ETA: 24:03 - loss: 0.6044 - acc: 0.71 - ETA: 23:38 - loss: 0.5907 - acc: 0.72 - ETA: 23:56 - loss: 0.5954 - acc: 0.72 - ETA: 23:34 - loss: 0.5982 - acc: 0.72 - ETA: 23:23 - loss: 0.6030 - acc: 0.71 - ETA: 23:00 - loss: 0.6070 - acc: 0.71 - ETA: 22:36 - loss: 0.6070 - acc: 0.71 - ETA: 22:29 - loss: 0.6032 - acc: 0.72 - ETA: 22:10 - loss: 0.5967 - acc: 0.72 - ETA: 21:50 - loss: 0.5910 - acc: 0.73 - ETA: 21:35 - loss: 0.5914 - acc: 0.73 - ETA: 21:37 - loss: 0.5927 - acc: 0.73 - ETA: 21:40 - loss: 0.5939 - acc: 0.72 - ETA: 21:25 - loss: 0.5866 - acc: 0.73 - ETA: 21:07 - loss: 0.5910 - acc: 0.73 - ETA: 20:54 - loss: 0.5931 - acc: 0.72 - ETA: 20:39 - loss: 0.5917 - acc: 0.73 - ETA: 20:33 - loss: 0.5921 - acc: 0.72 - ETA: 20:18 - loss: 0.5892 - acc: 0.73 - ETA: 20:07 - loss: 0.5877 - acc: 0.73 - ETA: 19:52 - loss: 0.5899 - acc: 0.73 - ETA: 19:42 - loss: 0.5852 - acc: 0.73 - ETA: 19:29 - loss: 0.5891 - acc: 0.73 - ETA: 19:22 - loss: 0.5898 - acc: 0.73 - ETA: 19:14 - loss: 0.5885 - acc: 0.73 - ETA: 19:03 - loss: 0.5844 - acc: 0.73 - ETA: 18:51 - loss: 0.5890 - acc: 0.73 - ETA: 18:39 - loss: 0.5907 - acc: 0.72 - ETA: 18:29 - loss: 0.5908 - acc: 0.72 - ETA: 18:25 - loss: 0.5927 - acc: 0.72 - ETA: 18:16 - loss: 0.5912 - acc: 0.72 - ETA: 18:05 - loss: 0.5899 - acc: 0.72 - ETA: 17:54 - loss: 0.5899 - acc: 0.72 - ETA: 17:44 - loss: 0.5874 - acc: 0.72 - ETA: 17:39 - loss: 0.5849 - acc: 0.73 - ETA: 17:27 - loss: 0.5831 - acc: 0.73 - ETA: 17:17 - loss: 0.5835 - acc: 0.73 - ETA: 17:06 - loss: 0.5811 - acc: 0.73 - ETA: 16:57 - loss: 0.5811 - acc: 0.73 - ETA: 16:46 - loss: 0.5799 - acc: 0.73 - ETA: 16:36 - loss: 0.5808 - acc: 0.73 - ETA: 16:26 - loss: 0.5793 - acc: 0.73 - ETA: 16:17 - loss: 0.5788 - acc: 0.73 - ETA: 16:07 - loss: 0.5774 - acc: 0.73 - ETA: 15:57 - loss: 0.5756 - acc: 0.73 - ETA: 15:47 - loss: 0.5738 - acc: 0.74 - ETA: 15:37 - loss: 0.5731 - acc: 0.74 - ETA: 15:27 - loss: 0.5750 - acc: 0.73 - ETA: 15:18 - loss: 0.5759 - acc: 0.73 - ETA: 15:08 - loss: 0.5758 - acc: 0.73 - ETA: 14:59 - loss: 0.5762 - acc: 0.73 - ETA: 14:50 - loss: 0.5746 - acc: 0.73 - ETA: 14:41 - loss: 0.5736 - acc: 0.73 - ETA: 14:32 - loss: 0.5720 - acc: 0.73 - ETA: 14:22 - loss: 0.5698 - acc: 0.74 - ETA: 14:13 - loss: 0.5661 - acc: 0.74 - ETA: 14:04 - loss: 0.5671 - acc: 0.74 - ETA: 13:54 - loss: 0.5659 - acc: 0.74 - ETA: 13:45 - loss: 0.5640 - acc: 0.74 - ETA: 13:36 - loss: 0.5629 - acc: 0.74 - ETA: 13:28 - loss: 0.5618 - acc: 0.74 - ETA: 13:19 - loss: 0.5591 - acc: 0.74 - ETA: 13:10 - loss: 0.5601 - acc: 0.74 - ETA: 13:01 - loss: 0.5618 - acc: 0.74 - ETA: 12:52 - loss: 0.5620 - acc: 0.74 - ETA: 12:43 - loss: 0.5626 - acc: 0.74 - ETA: 12:34 - loss: 0.5609 - acc: 0.74 - ETA: 12:26 - loss: 0.5601 - acc: 0.74 - ETA: 12:17 - loss: 0.5595 - acc: 0.74 - ETA: 12:08 - loss: 0.5582 - acc: 0.74 - ETA: 12:00 - loss: 0.5578 - acc: 0.74 - ETA: 11:51 - loss: 0.5569 - acc: 0.75 - ETA: 11:43 - loss: 0.5565 - acc: 0.75 - ETA: 11:34 - loss: 0.5582 - acc: 0.74 - ETA: 11:26 - loss: 0.5576 - acc: 0.74 - ETA: 11:18 - loss: 0.5580 - acc: 0.74 - ETA: 11:09 - loss: 0.5581 - acc: 0.74 - ETA: 11:01 - loss: 0.5570 - acc: 0.74 - ETA: 10:53 - loss: 0.5572 - acc: 0.74 - ETA: 10:44 - loss: 0.5572 - acc: 0.74 - ETA: 10:35 - loss: 0.5564 - acc: 0.74 - ETA: 10:27 - loss: 0.5556 - acc: 0.74 - ETA: 10:19 - loss: 0.5568 - acc: 0.74 - ETA: 10:10 - loss: 0.5571 - acc: 0.74 - ETA: 10:02 - loss: 0.5573 - acc: 0.74 - ETA: 9:54 - loss: 0.5567 - acc: 0.7476 - ETA: 9:46 - loss: 0.5574 - acc: 0.746 - ETA: 9:37 - loss: 0.5565 - acc: 0.748 - ETA: 9:29 - loss: 0.5575 - acc: 0.747 - ETA: 9:20 - loss: 0.5572 - acc: 0.747 - ETA: 9:12 - loss: 0.5568 - acc: 0.747 - ETA: 9:04 - loss: 0.5553 - acc: 0.748 - ETA: 8:55 - loss: 0.5560 - acc: 0.747 - ETA: 8:47 - loss: 0.5566 - acc: 0.746 - ETA: 8:39 - loss: 0.5561 - acc: 0.746 - ETA: 8:30 - loss: 0.5572 - acc: 0.745 - ETA: 8:22 - loss: 0.5567 - acc: 0.746 - ETA: 8:13 - loss: 0.5577 - acc: 0.744 - ETA: 8:05 - loss: 0.5573 - acc: 0.744 - ETA: 7:56 - loss: 0.5574 - acc: 0.744 - ETA: 7:48 - loss: 0.5565 - acc: 0.745 - ETA: 7:40 - loss: 0.5556 - acc: 0.746 - ETA: 7:31 - loss: 0.5560 - acc: 0.745 - ETA: 7:23 - loss: 0.5565 - acc: 0.744 - ETA: 7:15 - loss: 0.5555 - acc: 0.746 - ETA: 7:06 - loss: 0.5562 - acc: 0.745 - ETA: 6:58 - loss: 0.5568 - acc: 0.744 - ETA: 6:49 - loss: 0.5571 - acc: 0.743 - ETA: 6:41 - loss: 0.5569 - acc: 0.744 - ETA: 6:33 - loss: 0.5568 - acc: 0.743 - ETA: 6:25 - loss: 0.5566 - acc: 0.743 - ETA: 6:16 - loss: 0.5572 - acc: 0.742 - ETA: 6:08 - loss: 0.5566 - acc: 0.743 - ETA: 6:00 - loss: 0.5560 - acc: 0.743 - ETA: 5:52 - loss: 0.5566 - acc: 0.743 - ETA: 5:43 - loss: 0.5565 - acc: 0.742 - ETA: 5:35 - loss: 0.5557 - acc: 0.743 - ETA: 5:27 - loss: 0.5545 - acc: 0.743 - ETA: 5:19 - loss: 0.5539 - acc: 0.744 - ETA: 5:10 - loss: 0.5537 - acc: 0.744 - ETA: 5:02 - loss: 0.5543 - acc: 0.743 - ETA: 4:54 - loss: 0.5546 - acc: 0.742 - ETA: 4:45 - loss: 0.5538 - acc: 0.743 - ETA: 4:37 - loss: 0.5534 - acc: 0.743 - ETA: 4:29 - loss: 0.5529 - acc: 0.743 - ETA: 4:21 - loss: 0.5524 - acc: 0.743 - ETA: 4:13 - loss: 0.5522 - acc: 0.742 - ETA: 4:04 - loss: 0.5515 - acc: 0.743 - ETA: 3:56 - loss: 0.5513 - acc: 0.743 - ETA: 3:48 - loss: 0.5499 - acc: 0.744 - ETA: 3:40 - loss: 0.5499 - acc: 0.743 - ETA: 3:32 - loss: 0.5497 - acc: 0.743 - ETA: 3:23 - loss: 0.5499 - acc: 0.743 - ETA: 3:15 - loss: 0.5497 - acc: 0.742 - ETA: 3:07 - loss: 0.5493 - acc: 0.743 - ETA: 2:59 - loss: 0.5488 - acc: 0.742 - ETA: 2:51 - loss: 0.5483 - acc: 0.743 - ETA: 2:42 - loss: 0.5477 - acc: 0.743 - ETA: 2:34 - loss: 0.5466 - acc: 0.744 - ETA: 2:26 - loss: 0.5455 - acc: 0.744 - ETA: 2:18 - loss: 0.5445 - acc: 0.745 - ETA: 2:10 - loss: 0.5449 - acc: 0.744 - ETA: 2:02 - loss: 0.5445 - acc: 0.745 - ETA: 1:53 - loss: 0.5438 - acc: 0.745 - ETA: 1:45 - loss: 0.5429 - acc: 0.745 - ETA: 1:37 - loss: 0.5426 - acc: 0.745 - ETA: 1:29 - loss: 0.5427 - acc: 0.745 - ETA: 1:21 - loss: 0.5419 - acc: 0.745 - ETA: 1:13 - loss: 0.5423 - acc: 0.744 - ETA: 1:05 - loss: 0.5416 - acc: 0.745 - ETA: 56s - loss: 0.5417 - acc: 0.744 - ETA: 48s - loss: 0.5410 - acc: 0.74 - ETA: 40s - loss: 0.5410 - acc: 0.74 - ETA: 32s - loss: 0.5405 - acc: 0.74 - ETA: 24s - loss: 0.5399 - acc: 0.74 - ETA: 16s - loss: 0.5402 - acc: 0.74 - ETA: 8s - loss: 0.5396 - acc: 0.7439 - 1408s 270ms/step - loss: 0.5397 - acc: 0.7434 - val_loss: 0.5527 - val_acc: 0.6266\n",
      "\n",
      "Epoch 00001: val_acc improved from -inf to 0.62660, saving model to weights.hdf5\n"
     ]
    }
   ],
   "source": [
    "history = model.fit(X_train, y_train, validation_data = (X_test , y_test) ,callbacks=[lr_reduce,checkpoint] ,\n",
    "          epochs=epochs)"
   ]
  },
  {
   "cell_type": "code",
   "execution_count": 34,
   "metadata": {
    "_uuid": "a5d099776e7b28863a150e980c7e6490338e1f54"
   },
   "outputs": [
    {
     "data": {
      "image/png": "[encoded data removed]",
      "text/plain": [
       "<Figure size 432x288 with 1 Axes>"
      ]
     },
     "metadata": {
      "needs_background": "light"
     },
     "output_type": "display_data"
    },
    {
     "data": {
      "image/png": "[encoded data removed]",
      "text/plain": [
       "<Figure size 432x288 with 1 Axes>"
      ]
     },
     "metadata": {
      "needs_background": "light"
     },
     "output_type": "display_data"
    }
   ],
   "source": [
    "import matplotlib.pyplot as plt\n",
    "\n",
    "plt.plot(history.history['acc'])\n",
    "plt.plot(history.history['val_acc'])\n",
    "plt.title('model accuracy')\n",
    "plt.ylabel('accuracy')\n",
    "plt.xlabel('epoch')\n",
    "plt.legend(['train', 'test'], loc='upper left')\n",
    "plt.show()\n",
    "# summarize history for loss\n",
    "plt.plot(history.history['loss'])\n",
    "plt.plot(history.history['val_loss'])\n",
    "plt.title('model loss')\n",
    "plt.ylabel('loss')\n",
    "plt.xlabel('epoch')\n",
    "plt.legend(['train', 'test'], loc='upper left')\n",
    "plt.show()"
   ]
  },
  {
   "cell_type": "markdown",
   "metadata": {},
   "source": [
    "**The model will try to overfit itself but rather save it prior going to the next epoch using necessary callbacks.**"
   ]
  },
  {
   "cell_type": "markdown",
   "metadata": {},
   "source": [
    "**For better performance use exponential decaying learning rate and specify steps_per_epoch**"
   ]
  },
  {
   "cell_type": "code",
   "execution_count": 35,
   "metadata": {
    "_uuid": "15c959475e7fdc902a72d8e22bfe4276cc4b05be"
   },
   "outputs": [],
   "source": [
    "from sklearn.metrics import confusion_matrix\n",
    "pred = model.predict(X_test)\n",
    "pred = np.argmax(pred,axis = 1) \n",
    "y_true = np.argmax(y_test,axis = 1)"
   ]
  },
  {
   "cell_type": "code",
   "execution_count": 40,
   "metadata": {},
   "outputs": [],
   "source": [
    "import numpy as np"
   ]
  },
  {
   "cell_type": "markdown",
   "metadata": {},
   "source": [
    "**Using mlxtend library for quick implementation of confusion matrix.**"
   ]
  },
  {
   "cell_type": "code",
   "execution_count": 42,
   "metadata": {
    "_uuid": "a01e456c126483c6929f4a0ff53da3dd1e4f17a0"
   },
   "outputs": [
    {
     "ename": "NameError",
     "evalue": "name 'np' is not defined",
     "output_type": "error",
     "traceback": [
      "\u001b[1;31m---------------------------------------------------------------------------\u001b[0m",
      "\u001b[1;31mNameError\u001b[0m                                 Traceback (most recent call last)",
      "\u001b[1;32m<ipython-input-42-41e2d74f4dd3>\u001b[0m in \u001b[0;36m<module>\u001b[1;34m\u001b[0m\n\u001b[0;32m      2\u001b[0m \u001b[0mCM\u001b[0m\u001b[1;33m\u001b[0m\u001b[1;33m\u001b[0m\u001b[0m\n\u001b[0;32m      3\u001b[0m \u001b[1;32mfrom\u001b[0m \u001b[0mmlxtend\u001b[0m\u001b[1;33m.\u001b[0m\u001b[0mplotting\u001b[0m \u001b[1;32mimport\u001b[0m \u001b[0mplot_confusion_matrix\u001b[0m\u001b[1;33m\u001b[0m\u001b[1;33m\u001b[0m\u001b[0m\n\u001b[1;32m----> 4\u001b[1;33m \u001b[0mfig\u001b[0m\u001b[1;33m,\u001b[0m \u001b[0max\u001b[0m \u001b[1;33m=\u001b[0m \u001b[0mplot_confusion_matrix\u001b[0m\u001b[1;33m(\u001b[0m\u001b[0mconf_mat\u001b[0m\u001b[1;33m=\u001b[0m\u001b[0mCM\u001b[0m \u001b[1;33m,\u001b[0m  \u001b[0mfigsize\u001b[0m\u001b[1;33m=\u001b[0m\u001b[1;33m(\u001b[0m\u001b[1;36m5\u001b[0m\u001b[1;33m,\u001b[0m \u001b[1;36m5\u001b[0m\u001b[1;33m)\u001b[0m\u001b[1;33m)\u001b[0m\u001b[1;33m\u001b[0m\u001b[1;33m\u001b[0m\u001b[0m\n\u001b[0m\u001b[0;32m      5\u001b[0m \u001b[0mplt\u001b[0m\u001b[1;33m.\u001b[0m\u001b[0mshow\u001b[0m\u001b[1;33m(\u001b[0m\u001b[1;33m)\u001b[0m\u001b[1;33m\u001b[0m\u001b[1;33m\u001b[0m\u001b[0m\n",
      "\u001b[1;32m~\\AppData\\Local\\Continuum\\anaconda3\\envs\\tensorflow\\lib\\site-packages\\mlxtend\\plotting\\plot_confusion_matrix.py\u001b[0m in \u001b[0;36mplot_confusion_matrix\u001b[1;34m(conf_mat, hide_spines, hide_ticks, figsize, cmap, colorbar, show_absolute, show_normed)\u001b[0m\n\u001b[0;32m     55\u001b[0m         \u001b[1;32mraise\u001b[0m \u001b[0mAssertionError\u001b[0m\u001b[1;33m(\u001b[0m\u001b[1;34m'Both show_absolute and show_normed are False'\u001b[0m\u001b[1;33m)\u001b[0m\u001b[1;33m\u001b[0m\u001b[1;33m\u001b[0m\u001b[0m\n\u001b[0;32m     56\u001b[0m \u001b[1;33m\u001b[0m\u001b[0m\n\u001b[1;32m---> 57\u001b[1;33m     \u001b[0mtotal_samples\u001b[0m \u001b[1;33m=\u001b[0m \u001b[0mconf_mat\u001b[0m\u001b[1;33m.\u001b[0m\u001b[0msum\u001b[0m\u001b[1;33m(\u001b[0m\u001b[0maxis\u001b[0m\u001b[1;33m=\u001b[0m\u001b[1;36m1\u001b[0m\u001b[1;33m)\u001b[0m\u001b[1;33m[\u001b[0m\u001b[1;33m:\u001b[0m\u001b[1;33m,\u001b[0m \u001b[0mnp\u001b[0m\u001b[1;33m.\u001b[0m\u001b[0mnewaxis\u001b[0m\u001b[1;33m]\u001b[0m\u001b[1;33m\u001b[0m\u001b[1;33m\u001b[0m\u001b[0m\n\u001b[0m\u001b[0;32m     58\u001b[0m     \u001b[0mnormed_conf_mat\u001b[0m \u001b[1;33m=\u001b[0m \u001b[0mconf_mat\u001b[0m\u001b[1;33m.\u001b[0m\u001b[0mastype\u001b[0m\u001b[1;33m(\u001b[0m\u001b[1;34m'float'\u001b[0m\u001b[1;33m)\u001b[0m \u001b[1;33m/\u001b[0m \u001b[0mtotal_samples\u001b[0m\u001b[1;33m\u001b[0m\u001b[1;33m\u001b[0m\u001b[0m\n\u001b[0;32m     59\u001b[0m \u001b[1;33m\u001b[0m\u001b[0m\n",
      "\u001b[1;31mNameError\u001b[0m: name 'np' is not defined"
     ]
    }
   ],
   "source": [
    "CM = confusion_matrix(y_true, pred)\n",
    "CM\n",
    "from mlxtend.plotting import plot_confusion_matrix\n",
    "fig, ax = plot_confusion_matrix(conf_mat=CM ,  figsize=(5, 5))\n",
    "plt.show()"
   ]
  },
  {
   "cell_type": "code",
   "execution_count": 43,
   "metadata": {},
   "outputs": [
    {
     "data": {
      "text/plain": [
       "array([[  0, 234],\n",
       "       [  0, 390]], dtype=int64)"
      ]
     },
     "execution_count": 43,
     "metadata": {},
     "output_type": "execute_result"
    }
   ],
   "source": [
    "CM"
   ]
  },
  {
   "cell_type": "markdown",
   "metadata": {},
   "source": [
    "**Now, a model not good for validation accuracy might be actually good for precision or recall. So better tune according to the metric or your need.**"
   ]
  },
  {
   "cell_type": "code",
   "execution_count": 44,
   "metadata": {},
   "outputs": [
    {
     "data": {
      "text/plain": [
       "0.7840670859538784"
      ]
     },
     "execution_count": 44,
     "metadata": {},
     "output_type": "execute_result"
    }
   ],
   "source": [
    "374 / (374 + 103)"
   ]
  },
  {
   "cell_type": "markdown",
   "metadata": {},
   "source": [
    "## Precision is of 78.40 % "
   ]
  },
  {
   "cell_type": "markdown",
   "metadata": {},
   "source": [
    "## Recall is of 95.89 % or approx. 96 % which is quite good. "
   ]
  },
  {
   "cell_type": "code",
   "execution_count": 45,
   "metadata": {},
   "outputs": [
    {
     "data": {
      "text/plain": [
       "0.958974358974359"
      ]
     },
     "execution_count": 45,
     "metadata": {},
     "output_type": "execute_result"
    }
   ],
   "source": [
    "374 / (374 + 16)"
   ]
  },
  {
   "cell_type": "markdown",
   "metadata": {},
   "source": [
    "### Here , recall is most significant quantity even more than accuracy and precision.  "
   ]
  },
  {
   "cell_type": "markdown",
   "metadata": {},
   "source": [
    "###  Since we are having unequal number of people in both the classes , therefore we can't take accuracy as an alone metric to calculate model efficieny ."
   ]
  },
  {
   "cell_type": "markdown",
   "metadata": {},
   "source": [
    "#### precision = True Positive / (True Positive + False Positive)\n",
    "\n",
    "#### recall = True Positive / (True Positive + False Negative)"
   ]
  },
  {
   "cell_type": "markdown",
   "metadata": {},
   "source": [
    "### Also precision can't be taken as alone metric and has less significance than recall in this particular dataset because we have to minimize false negative and that is in the denominator and thus finally increasing 'Recall' .  "
   ]
  },
  {
   "cell_type": "markdown",
   "metadata": {},
   "source": [
    "### False negative has to be intuitively minimized because we can't falsely diagnose a patient of pneumonia which is our major concern . That is why we are making this model . To reduce the mistakes done by doctors accidentally ."
   ]
  },
  {
   "cell_type": "code",
   "execution_count": null,
   "metadata": {
    "collapsed": true
   },
   "outputs": [],
   "source": []
  },
  {
   "cell_type": "markdown",
   "metadata": {
    "collapsed": true
   },
   "source": [
    "**-------------Data Science has always been much about context and intuition.--------------------------**"
   ]
  },
  {
   "cell_type": "code",
   "execution_count": null,
   "metadata": {
    "collapsed": true
   },
   "outputs": [],
   "source": []
  }
 ],
 "metadata": {
  "kernelspec": {
   "display_name": "Python 3",
   "language": "python",
   "name": "python3"
  },
  "language_info": {
   "codemirror_mode": {
    "name": "ipython",
    "version": 3
   },
   "file_extension": ".py",
   "mimetype": "text/x-python",
   "name": "python",
   "nbconvert_exporter": "python",
   "pygments_lexer": "ipython3",
   "version": "3.6.7"
  }
 },
 "nbformat": 4,
 "nbformat_minor": 1
}
